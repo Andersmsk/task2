{
 "cells": [
  {
   "cell_type": "markdown",
   "metadata": {},
   "source": [
    "## Датасет собран из базы данных переписи 1994 года и содержит данные о доходах.\n",
    "### Информация о данных:\n",
    "* age: continuous.\n",
    "* workclass: Private, Self-emp-not-inc, Self-emp-inc, Federal-gov, Local-gov, State-gov, Without-pay, Never-worked.\n",
    "* fnlwgt: continuous.\n",
    "* education: Bachelors, Some-college, 11th, HS-grad, Prof-school, Assoc-acdm, Assoc-voc, 9th, 7th-8th, 12th, * Masters, 1st-4th, 10th, Doctorate, 5th-6th, Preschool.\n",
    "* education-num: continuous.\n",
    "* marital-status: Married-civ-spouse, Divorced, Never-married, Separated, Widowed, Married-spouse-absent, Married-AF-spouse.\n",
    "* occupation: Tech-support, Craft-repair, Other-service, Sales, Exec-managerial, Prof-specialty, Handlers-cleaners, Machine-op-inspct, Adm-clerical, Farming-fishing, Transport-moving, Priv-house-serv, Protective-serv, Armed-Forces.\n",
    "* relationship: Wife, Own-child, Husband, Not-in-family, Other-relative, Unmarried.\n",
    "* race: White, Asian-Pac-Islander, Amer-Indian-Eskimo, Other, Black.\n",
    "* sex: Female, Male.\n",
    "* capital-gain: continuous.\n",
    "* capital-loss: continuous.\n",
    "* hours-per-week: continuous.\n",
    "* native-country: United-States, Cambodia, England, Puerto-Rico, Canada, Germany, Outlying-US(Guam-USVI-etc), India, Japan, Greece, South, China, Cuba, Iran, Honduras, Philippines, Italy, Poland, Jamaica, Vietnam, Mexico, Portugal, Ireland, France, Dominican-Republic, Laos, Ecuador, Taiwan, Haiti, Columbia, Hungary, Guatemala, Nicaragua, Scotland, Thailand, Yugoslavia, El-Salvador, Trinadad&Tobago, Peru, Hong, Holand-Netherlands.\n",
    "* salary: >50K,<=50K\n",
    "\n",
    "## Проведите анализ данных при помощи Pandas выполнив поставленные задачи.\n",
    "#### "
   ]
  },
  {
   "cell_type": "code",
   "execution_count": 3,
   "metadata": {
    "scrolled": true
   },
   "outputs": [],
   "source": [
    "import pandas as pd"
   ]
  },
  {
   "cell_type": "code",
   "execution_count": 4,
   "metadata": {
    "scrolled": false
   },
   "outputs": [
    {
     "data": {
      "text/html": [
       "<div>\n",
       "<style scoped>\n",
       "    .dataframe tbody tr th:only-of-type {\n",
       "        vertical-align: middle;\n",
       "    }\n",
       "\n",
       "    .dataframe tbody tr th {\n",
       "        vertical-align: top;\n",
       "    }\n",
       "\n",
       "    .dataframe thead th {\n",
       "        text-align: right;\n",
       "    }\n",
       "</style>\n",
       "<table border=\"1\" class=\"dataframe\">\n",
       "  <thead>\n",
       "    <tr style=\"text-align: right;\">\n",
       "      <th></th>\n",
       "      <th>age</th>\n",
       "      <th>workclass</th>\n",
       "      <th>fnlwgt</th>\n",
       "      <th>education</th>\n",
       "      <th>education-num</th>\n",
       "      <th>marital-status</th>\n",
       "      <th>occupation</th>\n",
       "      <th>relationship</th>\n",
       "      <th>race</th>\n",
       "      <th>sex</th>\n",
       "      <th>capital-gain</th>\n",
       "      <th>capital-loss</th>\n",
       "      <th>hours-per-week</th>\n",
       "      <th>native-country</th>\n",
       "      <th>salary</th>\n",
       "    </tr>\n",
       "  </thead>\n",
       "  <tbody>\n",
       "    <tr>\n",
       "      <th>0</th>\n",
       "      <td>39</td>\n",
       "      <td>State-gov</td>\n",
       "      <td>77516</td>\n",
       "      <td>Bachelors</td>\n",
       "      <td>13</td>\n",
       "      <td>Never-married</td>\n",
       "      <td>Adm-clerical</td>\n",
       "      <td>Not-in-family</td>\n",
       "      <td>White</td>\n",
       "      <td>Male</td>\n",
       "      <td>2174</td>\n",
       "      <td>0</td>\n",
       "      <td>40</td>\n",
       "      <td>United-States</td>\n",
       "      <td>&lt;=50K</td>\n",
       "    </tr>\n",
       "    <tr>\n",
       "      <th>1</th>\n",
       "      <td>50</td>\n",
       "      <td>Self-emp-not-inc</td>\n",
       "      <td>83311</td>\n",
       "      <td>Bachelors</td>\n",
       "      <td>13</td>\n",
       "      <td>Married-civ-spouse</td>\n",
       "      <td>Exec-managerial</td>\n",
       "      <td>Husband</td>\n",
       "      <td>White</td>\n",
       "      <td>Male</td>\n",
       "      <td>0</td>\n",
       "      <td>0</td>\n",
       "      <td>13</td>\n",
       "      <td>United-States</td>\n",
       "      <td>&lt;=50K</td>\n",
       "    </tr>\n",
       "    <tr>\n",
       "      <th>2</th>\n",
       "      <td>38</td>\n",
       "      <td>Private</td>\n",
       "      <td>215646</td>\n",
       "      <td>HS-grad</td>\n",
       "      <td>9</td>\n",
       "      <td>Divorced</td>\n",
       "      <td>Handlers-cleaners</td>\n",
       "      <td>Not-in-family</td>\n",
       "      <td>White</td>\n",
       "      <td>Male</td>\n",
       "      <td>0</td>\n",
       "      <td>0</td>\n",
       "      <td>40</td>\n",
       "      <td>United-States</td>\n",
       "      <td>&lt;=50K</td>\n",
       "    </tr>\n",
       "    <tr>\n",
       "      <th>3</th>\n",
       "      <td>53</td>\n",
       "      <td>Private</td>\n",
       "      <td>234721</td>\n",
       "      <td>11th</td>\n",
       "      <td>7</td>\n",
       "      <td>Married-civ-spouse</td>\n",
       "      <td>Handlers-cleaners</td>\n",
       "      <td>Husband</td>\n",
       "      <td>Black</td>\n",
       "      <td>Male</td>\n",
       "      <td>0</td>\n",
       "      <td>0</td>\n",
       "      <td>40</td>\n",
       "      <td>United-States</td>\n",
       "      <td>&lt;=50K</td>\n",
       "    </tr>\n",
       "    <tr>\n",
       "      <th>4</th>\n",
       "      <td>28</td>\n",
       "      <td>Private</td>\n",
       "      <td>338409</td>\n",
       "      <td>Bachelors</td>\n",
       "      <td>13</td>\n",
       "      <td>Married-civ-spouse</td>\n",
       "      <td>Prof-specialty</td>\n",
       "      <td>Wife</td>\n",
       "      <td>Black</td>\n",
       "      <td>Female</td>\n",
       "      <td>0</td>\n",
       "      <td>0</td>\n",
       "      <td>40</td>\n",
       "      <td>Cuba</td>\n",
       "      <td>&lt;=50K</td>\n",
       "    </tr>\n",
       "  </tbody>\n",
       "</table>\n",
       "</div>"
      ],
      "text/plain": [
       "   age         workclass  fnlwgt  education  education-num  \\\n",
       "0   39         State-gov   77516  Bachelors             13   \n",
       "1   50  Self-emp-not-inc   83311  Bachelors             13   \n",
       "2   38           Private  215646    HS-grad              9   \n",
       "3   53           Private  234721       11th              7   \n",
       "4   28           Private  338409  Bachelors             13   \n",
       "\n",
       "       marital-status         occupation   relationship   race     sex  \\\n",
       "0       Never-married       Adm-clerical  Not-in-family  White    Male   \n",
       "1  Married-civ-spouse    Exec-managerial        Husband  White    Male   \n",
       "2            Divorced  Handlers-cleaners  Not-in-family  White    Male   \n",
       "3  Married-civ-spouse  Handlers-cleaners        Husband  Black    Male   \n",
       "4  Married-civ-spouse     Prof-specialty           Wife  Black  Female   \n",
       "\n",
       "   capital-gain  capital-loss  hours-per-week native-country salary  \n",
       "0          2174             0              40  United-States  <=50K  \n",
       "1             0             0              13  United-States  <=50K  \n",
       "2             0             0              40  United-States  <=50K  \n",
       "3             0             0              40  United-States  <=50K  \n",
       "4             0             0              40           Cuba  <=50K  "
      ]
     },
     "execution_count": 4,
     "metadata": {},
     "output_type": "execute_result"
    }
   ],
   "source": [
    "# загружаем датасет\n",
    "data = pd.read_csv(\"./data/adult.data.csv\")\n",
    "data.head()"
   ]
  },
  {
   "cell_type": "markdown",
   "metadata": {},
   "source": [
    "**1. Посчитайте, сколько мужчин и женщин (признак *sex*) представлено в этом датасете**"
   ]
  },
  {
   "cell_type": "code",
   "execution_count": 59,
   "metadata": {
    "scrolled": true
   },
   "outputs": [
    {
     "name": "stdout",
     "output_type": "stream",
     "text": [
      "sex\n",
      "Male      21790\n",
      "Female    10771\n",
      "Name: count, dtype: int64\n"
     ]
    }
   ],
   "source": [
    "# value_counts() counts the number of unique values in the 'sex' column of the dataset.\n",
    "gender_counts = data['sex'].value_counts()\n",
    "print(gender_counts)\n"
   ]
  },
  {
   "cell_type": "markdown",
   "metadata": {},
   "source": [
    "**2. Каков средний возраст мужчин (признак *age*) по всему датасету?**"
   ]
  },
  {
   "cell_type": "code",
   "execution_count": 60,
   "metadata": {},
   "outputs": [
    {
     "name": "stdout",
     "output_type": "stream",
     "text": [
      "39.0\n"
     ]
    }
   ],
   "source": [
    "# mean() This method calculates the average age and returns its result.\n",
    "# using str.lower() avoid register mistakes\n",
    "average_age_male = data[data['sex'].str.lower() == 'male']['age'].mean()\n",
    "print(round(average_age_male,0))  # rounded for better perception of age data"
   ]
  },
  {
   "cell_type": "markdown",
   "metadata": {},
   "source": [
    "**3. Какова доля граждан Соединенных Штатов (признак *native-country*)?**"
   ]
  },
  {
   "cell_type": "code",
   "execution_count": 61,
   "metadata": {
    "scrolled": true
   },
   "outputs": [
    {
     "name": "stdout",
     "output_type": "stream",
     "text": [
      "0.895857006848684\n"
     ]
    }
   ],
   "source": [
    "# First, we create a subset of us_citizens containing only rows where the value of the 'native-country' column \n",
    "# is 'United-States' (United States). We then calculate the proportion of United States citizens by dividing the number of rows \n",
    "# in the us_citizens subset by the total number of rows in the original dataset data.\n",
    "\n",
    "us_citizens = data[data['native-country'].str.lower() == 'united-states']\n",
    "us_citizens_ratio = len(us_citizens) / len(data)\n",
    "print(us_citizens_ratio)\n"
   ]
  },
  {
   "cell_type": "code",
   "execution_count": 14,
   "metadata": {},
   "outputs": [
    {
     "name": "stdout",
     "output_type": "stream",
     "text": [
      "0.9\n"
     ]
    }
   ],
   "source": [
    "# var2 \n",
    "# mean() method returns the mean value\n",
    "us_citizens_ratio = (data['native-country'].str.lower() == 'united-states').mean()\n",
    "print(round(us_citizens_ratio,2))"
   ]
  },
  {
   "cell_type": "markdown",
   "metadata": {},
   "source": [
    "**4-5. Рассчитайте среднее значение и среднеквадратичное отклонение возраста тех, кто получает более 50K в год (признак *salary*) и тех, кто получает менее 50K в год**"
   ]
  },
  {
   "cell_type": "code",
   "execution_count": 62,
   "metadata": {},
   "outputs": [
    {
     "name": "stdout",
     "output_type": "stream",
     "text": [
      "Average age of people earning more than 50K per year: 44\n",
      "Standard deviation of the age of people earning more than 50K per year: 10.5\n",
      "Average age of people earning less than or equal to 50K a year: 37\n",
      "Standard deviation of age of people earning less than or equal to 50K per year: 14.0\n"
     ]
    }
   ],
   "source": [
    "\n",
    "# Group earning more than 50K per year\n",
    "high_income_age = data[data['salary'] == '>50K']['age']\n",
    "high_income_mean = high_income_age.mean()\n",
    "high_income_std = high_income_age.std()\n",
    "\n",
    "# Group earning less or equal than 50K per year\n",
    "low_income_age = data[data['salary'] == '<=50K']['age']\n",
    "low_income_mean = low_income_age.mean()\n",
    "low_income_std = low_income_age.std()\n",
    "\n",
    "print(\"Average age of people earning more than 50K per year:\", round(high_income_mean))\n",
    "print(\"Standard deviation of the age of people earning more than 50K per year:\", round(high_income_std,1))\n",
    "print(\"Average age of people earning less than or equal to 50K a year:\", round(low_income_mean))\n",
    "print(\"Standard deviation of age of people earning less than or equal to 50K per year:\", round(low_income_std,1))\n"
   ]
  },
  {
   "cell_type": "markdown",
   "metadata": {},
   "source": [
    "**6. Правда ли, что люди, которые получают больше 50k, имеют минимум высшее образование? (признак *education – Bachelors, Prof-school, Assoc-acdm, Assoc-voc, Masters* или *Doctorate*)**"
   ]
  },
  {
   "cell_type": "code",
   "execution_count": 63,
   "metadata": {},
   "outputs": [
    {
     "name": "stdout",
     "output_type": "stream",
     "text": [
      "False, not all people earning more than 50K have at least a college degree.\n"
     ]
    }
   ],
   "source": [
    "# we do the validation using the .isin() method. The .all() method returns True if all values satisfy the condition.\n",
    "high_income_education = data[data['salary'] == '>50K']['education']\n",
    "has_high_education = high_income_education.isin(['Bachelors', 'Prof-school', 'Assoc-acdm', 'Assoc-voc', \n",
    "                                                 'Masters', 'Doctorate']).all()\n",
    "\n",
    "if has_high_education:\n",
    "    print(\"That's right, people with earnings over 50K have at least a college degree.\")\n",
    "else:\n",
    "    print(\"False, not all people earning more than 50K have at least a college degree.\")"
   ]
  },
  {
   "cell_type": "markdown",
   "metadata": {},
   "source": [
    "**7. Выведите статистику возраста для каждой расы (признак *race*) и каждого пола. Используйте *groupby* и *describe*. Найдите таким образом максимальный возраст мужчин расы *Asian-Pac-Islander*.**"
   ]
  },
  {
   "cell_type": "code",
   "execution_count": 64,
   "metadata": {
    "scrolled": true
   },
   "outputs": [
    {
     "name": "stdout",
     "output_type": "stream",
     "text": [
      "                             count       mean        std   min   25%   50%  \\\n",
      "race               sex                                                       \n",
      "Amer-Indian-Eskimo Female    119.0  37.117647  13.114991  17.0  27.0  36.0   \n",
      "                   Male      192.0  37.208333  12.049563  17.0  28.0  35.0   \n",
      "Asian-Pac-Islander Female    346.0  35.089595  12.300845  17.0  25.0  33.0   \n",
      "                   Male      693.0  39.073593  12.883944  18.0  29.0  37.0   \n",
      "Black              Female   1555.0  37.854019  12.637197  17.0  28.0  37.0   \n",
      "                   Male     1569.0  37.682600  12.882612  17.0  27.0  36.0   \n",
      "Other              Female    109.0  31.678899  11.631599  17.0  23.0  29.0   \n",
      "                   Male      162.0  34.654321  11.355531  17.0  26.0  32.0   \n",
      "White              Female   8642.0  36.811618  14.329093  17.0  25.0  35.0   \n",
      "                   Male    19174.0  39.652498  13.436029  17.0  29.0  38.0   \n",
      "\n",
      "                             75%   max  \n",
      "race               sex                  \n",
      "Amer-Indian-Eskimo Female  46.00  80.0  \n",
      "                   Male    45.00  82.0  \n",
      "Asian-Pac-Islander Female  43.75  75.0  \n",
      "                   Male    46.00  90.0  \n",
      "Black              Female  46.00  90.0  \n",
      "                   Male    46.00  90.0  \n",
      "Other              Female  39.00  74.0  \n",
      "                   Male    42.00  77.0  \n",
      "White              Female  46.00  90.0  \n",
      "                   Male    49.00  90.0  \n",
      "The maximum age for Asian-Pac-Islander men: 90.0\n"
     ]
    }
   ],
   "source": [
    "# groupby() - The groupby() function is a method of the DataFrame object in the Pandas library. \n",
    "# It is used to group data by one or more columns. \n",
    "# The main use of the groupby() function is to divide data into groups based on certain criteria \n",
    "# and apply aggregation operations to those groups.\n",
    "\n",
    "# describe() - The describe() function is also a method of the DataFrame object in the Pandas library. \n",
    "# It is used to calculate statistical metrics about numerical data such as mean, standard deviation, minimum and maximum values, \n",
    "# quartiles, and others. The describe() function returns a summary of the statistics for each numeric column in the DataFrame.\n",
    "\n",
    "# .loc[] is an indexer in Pandas that allows you to access specific elements, rows or columns in a DataFrame or Series \n",
    "# by their labels or indexing conditions. In this case, we're using .loc[] \n",
    "# to access a specific Asian-Pac-Islander male maximum age, using a combination of race and gender as an index.\n",
    "\n",
    "# Grouping data by race and gender, and calculating age statistics\n",
    "age_stats = data.groupby(['race', 'sex'])['age'].describe()\n",
    "\n",
    "# Displaying age statistics for each race and each gender\n",
    "print(age_stats)\n",
    "\n",
    "# Finding the maximum age of Asian-Pac-Islander men\n",
    "max_age_asian_male = age_stats.loc[('Asian-Pac-Islander', 'Male'), 'max']\n",
    "print(\"The maximum age for Asian-Pac-Islander men:\", max_age_asian_male)"
   ]
  },
  {
   "cell_type": "markdown",
   "metadata": {},
   "source": [
    "**8. Среди кого больше доля зарабатывающих много (>50K): среди женатых или холостых мужчин (признак *marital-status*)? Женатыми считаем тех, у кого *marital-status* начинается с *Married* (Married-civ-spouse, Married-spouse-absent или Married-AF-spouse), остальных считаем холостыми.**"
   ]
  },
  {
   "cell_type": "code",
   "execution_count": 8,
   "metadata": {},
   "outputs": [
    {
     "name": "stdout",
     "output_type": "stream",
     "text": [
      "Share of married men earning more than 50K: 44 %\n",
      "Share of single men earning more than 50K: 6 %\n"
     ]
    }
   ],
   "source": [
    "# Filtering data for married and single men\n",
    "married_men = data[data['marital-status'].str.lower().str.startswith('married')]\n",
    "unmarried_men = data[~data['marital-status'].str.lower().str.startswith('married')]\n",
    "\n",
    "# We consider the share of earning more than 50K among married and single men\n",
    "married_men_high_income_ratio = (married_men['salary'] == '>50K').mean()\n",
    "unmarried_men_high_income_ratio = (unmarried_men['salary'] == '>50K').mean()\n",
    "\n",
    "# results:   \"{:.2f}\", \"f\" indicates the floating point format, and \".2\" means to output two decimal places.\n",
    "print(f\"Share of married men earning more than 50K: {round(married_men_high_income_ratio * 100)} %\")\n",
    "print(f\"Share of single men earning more than 50K: {round(unmarried_men_high_income_ratio * 100)} %\")"
   ]
  },
  {
   "cell_type": "markdown",
   "metadata": {},
   "source": [
    "**9. Какое максимальное число часов человек работает в неделю (признак *hours-per-week*)? Сколько людей работают такое количество часов и каков среди них процент зарабатывающих много?**"
   ]
  },
  {
   "cell_type": "code",
   "execution_count": 9,
   "metadata": {},
   "outputs": [
    {
     "name": "stdout",
     "output_type": "stream",
     "text": [
      "Maximum work hours per week: 99\n",
      "Number of people working this many hours: 85\n",
      "Rich earning percentage among them: 29%\n"
     ]
    }
   ],
   "source": [
    "# .shape[0] is an attribute in the Pandas DataFrame object that returns the number of rows in the DataFrame.\n",
    "\n",
    "# Find the maximum number of hours worked per week\n",
    "max_hours = data['hours-per-week'].max() \n",
    "\n",
    "# Get the number of people working the maximum number of hours\n",
    "num_people_max_hours = data[data['hours-per-week'] == max_hours].shape[0]\n",
    "\n",
    "# Get the percentage earning a lot (>50K) among people working the maximum number of hours\n",
    "rich_percentage_max_hours = (data[(data['hours-per-week'] == max_hours) & (data['salary'] == '>50K')].shape[0] / \n",
    "                             num_people_max_hours) * 100\n",
    "\n",
    "# results:\n",
    "print(\"Maximum work hours per week:\", max_hours)\n",
    "print(\"Number of people working this many hours:\", num_people_max_hours)\n",
    "print(f\"Rich earning percentage among them: {round(rich_percentage_max_hours)}%\")"
   ]
  },
  {
   "cell_type": "markdown",
   "metadata": {},
   "source": [
    "**10. Посчитайте среднее время работы (*hours-per-week*) зарабатывающих мало и много (*salary*) для каждой страны (*native-country*).**"
   ]
  },
  {
   "cell_type": "code",
   "execution_count": 67,
   "metadata": {
    "scrolled": true
   },
   "outputs": [
    {
     "name": "stdout",
     "output_type": "stream",
     "text": [
      "   native-country salary  hours-per-week\n",
      "0         Unknown  <=50K       40.164760\n",
      "1         Unknown   >50K       45.547945\n",
      "2        Cambodia  <=50K       41.416667\n",
      "3        Cambodia   >50K       40.000000\n",
      "4          Canada  <=50K       37.914634\n",
      "..            ...    ...             ...\n",
      "77  United-States   >50K       45.505369\n",
      "78        Vietnam  <=50K       37.193548\n",
      "79        Vietnam   >50K       39.200000\n",
      "80     Yugoslavia  <=50K       41.600000\n",
      "81     Yugoslavia   >50K       49.500000\n",
      "\n",
      "[82 rows x 3 columns]\n"
     ]
    }
   ],
   "source": [
    "# Grouping data by 'native-country' and 'salary' and calculating the average 'hours-per-week'\n",
    "mean_hours_per_week = data.groupby(['native-country', 'salary'])['hours-per-week'].mean()\n",
    "mean_hours_per_week = mean_hours_per_week.reset_index()\n",
    "mean_hours_per_week['native-country'] = mean_hours_per_week['native-country'].replace('?', 'Unknown')\n",
    "\n",
    "# results:\n",
    "print(mean_hours_per_week)\n",
    "\n",
    "# I checked the results , somewhere there were no country names, so I changed them to unknown instead of \"?\"\n"
   ]
  },
  {
   "cell_type": "markdown",
   "metadata": {},
   "source": [
    "**11.Сгруппируйте людей по возрастным группам *young*, *adult*, *retiree*, где:**\n",
    "* *young* соответствует 16-35 лет\n",
    "* *adult* - 35-70 лет\n",
    "* *retiree* - 70-100 лет\n",
    "\n",
    "**Проставьте название соответсвтуещей группы для каждого человека в новой колонке AgeGroup**"
   ]
  },
  {
   "cell_type": "code",
   "execution_count": 68,
   "metadata": {
    "scrolled": false
   },
   "outputs": [
    {
     "name": "stdout",
     "output_type": "stream",
     "text": [
      "       age AgeGroup\n",
      "0       39    adult\n",
      "1       50    adult\n",
      "2       38    adult\n",
      "3       53    adult\n",
      "4       28    young\n",
      "...    ...      ...\n",
      "32556   27    young\n",
      "32557   40    adult\n",
      "32558   58    adult\n",
      "32559   22    young\n",
      "32560   52    adult\n",
      "\n",
      "[32561 rows x 2 columns]\n"
     ]
    }
   ],
   "source": [
    "# Defining a Function to Determine an Age Group\n",
    "def get_age_group(age):\n",
    "    if age >= 16 and age <= 35:\n",
    "        return 'young'\n",
    "    elif age > 35 and age <= 70:\n",
    "        return 'adult'\n",
    "    elif age > 70 and age <= 100:\n",
    "        return 'retiree'\n",
    "    else:\n",
    "        return 'unknown'\n",
    "\n",
    "# Applying a function to the 'age' column and creating a new 'AgeGroup' column\n",
    "# The .apply() method in Pandas is used to apply a function to one or more columns or rows in a DataFrame\n",
    "data['AgeGroup'] = data['age'].apply(get_age_group)\n",
    "\n",
    "# results:\n",
    "print(data[['age', 'AgeGroup']])"
   ]
  },
  {
   "cell_type": "code",
   "execution_count": 4,
   "metadata": {
    "scrolled": true
   },
   "outputs": [
    {
     "name": "stdout",
     "output_type": "stream",
     "text": [
      "       age AgeGroup\n",
      "0       39    adult\n",
      "1       50    adult\n",
      "2       38    adult\n",
      "3       53    adult\n",
      "4       28    young\n",
      "...    ...      ...\n",
      "32556   27    young\n",
      "32557   40    adult\n",
      "32558   58    adult\n",
      "32559   22    young\n",
      "32560   52    adult\n",
      "\n",
      "[32561 rows x 2 columns]\n"
     ]
    }
   ],
   "source": [
    "# var2\n",
    "# Specifying intervals for grouping\n",
    "age_bins = [16, 35, 70, 100]\n",
    "age_labels = ['young', 'adult', 'retiree']\n",
    "\n",
    "# Adding a new 'AgeGroup' column with pd.cut\n",
    "data['AgeGroup'] = pd.cut(data['age'], bins=age_bins, labels=age_labels, right=False, include_lowest=True)\n",
    "\n",
    "# result:\n",
    "print(data[['age', 'AgeGroup']])\n",
    "\n",
    "# The pd.cut function: pd.cut is a function from the Pandas library that allows you to split values into intervals \n",
    "# and assign labels to these intervals. Its syntax looks like this:\n",
    "\n",
    "# pd.cut(x, bins, labels=None, right=True, include_lowest=False)\n",
    "\n",
    "# x: A column or array of numeric values to be divided into intervals.\n",
    "# bins: A list of numbers that defines the bounds of the bins.\n",
    "# labels (optional): A list of labels to be assigned to each interval. If not specified, numeric labels will be used.\n",
    "# right (optional): Specifies whether the right bounds of the intervals are inclusive or exclusive. \n",
    "# The default is True, which means the right margins are enabled.\n",
    "# include_lowest (optional): Determines if the lowest interval is inclusive. The default is False."
   ]
  },
  {
   "cell_type": "markdown",
   "metadata": {},
   "source": [
    "**12-13. Определите количество зарабатывающих >50K в каждой из возрастных групп (колонка AgeGroup), а также выведите название возрастной группы, в которой чаще зарабатывают больше 50К (>50K)**"
   ]
  },
  {
   "cell_type": "code",
   "execution_count": 77,
   "metadata": {
    "scrolled": true
   },
   "outputs": [
    {
     "name": "stdout",
     "output_type": "stream",
     "text": [
      "Number of earners >50K in each age group:\n",
      "AgeGroup\n",
      "adult      6042\n",
      "retiree      94\n",
      "young      1705\n",
      "dtype: int64\n",
      "The name of the age group in which more often earn >50K:\n",
      "adult\n"
     ]
    }
   ],
   "source": [
    "# idxmax() is a Pandas method that returns the index (name) of the element with the maximum value \n",
    "# in a data series or DataFrame column. In the context of the previous code, grouped.idxmax() is used to determine \n",
    "# the age group in which the number of people earning more than 50K is the maximum.\n",
    "# .groupby('AgeGroup').size() is an operation to group and count the number of elements in each group. In this case, \n",
    "# we group the data by the 'AgeGroup' column using the groupby() method, and then use the size() method to count the number \n",
    "# of elements (records) in each group. The result will be a series of data where the indices are the values from the 'AgeGroup'\n",
    "# column and the values are the number of elements in each group.\n",
    "\n",
    "# Grouping by age group and counting the number of earners >50K\n",
    "grouped = data[data['salary'] == '>50K'].groupby('AgeGroup').size()\n",
    "\n",
    "# Determination of the age group in which more often earn >50K\n",
    "max_group = grouped.idxmax()\n",
    "\n",
    "# Display results\n",
    "print(\"Number of earners >50K in each age group:\")\n",
    "print(grouped)\n",
    "print(\"The name of the age group in which more often earn >50K:\")\n",
    "print(max_group)"
   ]
  },
  {
   "cell_type": "markdown",
   "metadata": {},
   "source": [
    "**14. Сгруппируйте людей по типу занятости (колонка occupation) и определите количество людей в каждой группе. После чего напишите функциюю фильтрации filter_func, которая будет возвращать только те группы, в которых средний возраст (колонка age) не больше 40 и в которых все работники отрабатывают более 5 часов в неделю (колонка hours-per-week)**"
   ]
  },
  {
   "cell_type": "code",
   "execution_count": 92,
   "metadata": {},
   "outputs": [
    {
     "name": "stdout",
     "output_type": "stream",
     "text": [
      "Initial results:\n",
      "occupation\n",
      "Prof-specialty       4140\n",
      "Craft-repair         4099\n",
      "Exec-managerial      4066\n",
      "Adm-clerical         3770\n",
      "Sales                3650\n",
      "Other-service        3295\n",
      "Machine-op-inspct    2002\n",
      "?                    1843\n",
      "Transport-moving     1597\n",
      "Handlers-cleaners    1370\n",
      "Farming-fishing       994\n",
      "Tech-support          928\n",
      "Protective-serv       649\n",
      "Priv-house-serv       149\n",
      "Armed-Forces            9\n",
      "Name: count, dtype: int64\n",
      "\n",
      "Filtered results:\n",
      "occupation\n",
      "Armed-Forces    9\n",
      "Name: count, dtype: int64\n"
     ]
    }
   ],
   "source": [
    "# Grouping by type of employment and counting the number of people in each group\n",
    "occupation_counts = data['occupation'].value_counts()\n",
    "\n",
    "def filter_func(group):\n",
    "     avg_age = group['age'].mean()\n",
    "     min_hours_per_week = group['hours-per-week'].min()\n",
    "     return avg_age <= 40 and min_hours_per_week > 5\n",
    "\n",
    "# Filtering groups by specified conditions\n",
    "filtered_groups = data.groupby('occupation').filter(filter_func)\n",
    "\n",
    "# Grouping filtered data and counting the number of people in each group\n",
    "filtered_occupation_counts = filtered_groups['occupation'].value_counts()\n",
    "\n",
    "# Display results\n",
    "print(\"Initial results:\")\n",
    "print(occupation_counts)\n",
    "print()\n",
    "print(\"Filtered results:\")\n",
    "print(filtered_occupation_counts)"
   ]
  },
  {
   "cell_type": "code",
   "execution_count": null,
   "metadata": {},
   "outputs": [],
   "source": []
  }
 ],
 "metadata": {
  "anaconda-cloud": {},
  "kernelspec": {
   "display_name": "Python 3 (ipykernel)",
   "language": "python",
   "name": "python3"
  },
  "language_info": {
   "codemirror_mode": {
    "name": "ipython",
    "version": 3
   },
   "file_extension": ".py",
   "mimetype": "text/x-python",
   "name": "python",
   "nbconvert_exporter": "python",
   "pygments_lexer": "ipython3",
   "version": "3.11.3"
  }
 },
 "nbformat": 4,
 "nbformat_minor": 1
}
