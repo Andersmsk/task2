{
 "cells": [
  {
   "cell_type": "markdown",
   "id": "d3df79dd",
   "metadata": {},
   "source": [
    "## Упражнения по библиотеке Numpy"
   ]
  },
  {
   "cell_type": "code",
   "execution_count": 70,
   "id": "76b9c43b",
   "metadata": {},
   "outputs": [],
   "source": [
    "import numpy as np"
   ]
  },
  {
   "cell_type": "markdown",
   "id": "03727b7c",
   "metadata": {},
   "source": [
    "**1.** Дан случайный массив, поменять знак у элементов, значения которых между 3 и 8"
   ]
  },
  {
   "cell_type": "code",
   "execution_count": null,
   "id": "dafb2765",
   "metadata": {},
   "outputs": [],
   "source": [
    "arr = np.array([1,2,3,4,5,6,7,8,9])\n",
    "print(arr)\n",
    "\n",
    "# Using mask to filter elements NOT INCLUDE 3 and 8\n",
    "# [False False False  True  True  True  True False False]\n",
    "mask = (arr > 3) & (arr < 8)\n",
    "\n",
    "# Changing sing to opposite\n",
    "arr[mask] *= -1\n",
    "\n",
    "print(\"Changed array:\")\n",
    "print(arr)"
   ]
  },
  {
   "cell_type": "markdown",
   "id": "5fa4abda",
   "metadata": {},
   "source": [
    "**2.** Заменить максимальный элемент случайного массива на 0"
   ]
  },
  {
   "cell_type": "code",
   "execution_count": null,
   "id": "87723778",
   "metadata": {},
   "outputs": [],
   "source": [
    "# Creating array\n",
    "arr = np.random.randint(0, 10, size=(5, 5))\n",
    "print(\"Given array:\")\n",
    "print(arr)\n",
    "\n",
    "# Finding max element index with np.argmax() \n",
    "max_index = np.unravel_index(arr.argmax(), arr.shape)\n",
    "\n",
    "# Changing max element to 0\n",
    "arr[max_index] = 0\n",
    "\n",
    "print(\"Array with changed element:\")\n",
    "print(arr)"
   ]
  },
  {
   "cell_type": "markdown",
   "id": "3cac656b",
   "metadata": {},
   "source": [
    "**3.** Построить прямое произведение массивов (все комбинации с каждым элементом). На вход подается двумерный массив"
   ]
  },
  {
   "cell_type": "code",
   "execution_count": 73,
   "id": "3396b764",
   "metadata": {},
   "outputs": [
    {
     "name": "stdout",
     "output_type": "stream",
     "text": [
      "[[1 4]\n",
      " [1 5]\n",
      " [1 6]\n",
      " [2 4]\n",
      " [2 5]\n",
      " [2 6]\n",
      " [3 4]\n",
      " [3 5]\n",
      " [3 6]]\n"
     ]
    }
   ],
   "source": [
    "# 2D array input\n",
    "arr = np.array([[1, 2, 3],\n",
    "                [4, 5, 6]])\n",
    "\n",
    "# direct product\n",
    "result = np.array(np.meshgrid(*arr)).T.reshape(-1, len(arr))\n",
    "\n",
    "print(result)"
   ]
  },
  {
   "cell_type": "markdown",
   "id": "674c9354",
   "metadata": {},
   "source": [
    "**4.** Даны 2 массива A (8x3) и B (2x2). Найти строки в A, которые содержат элементы из каждой строки в B, независимо от порядка элементов в B"
   ]
  },
  {
   "cell_type": "code",
   "execution_count": 74,
   "id": "cb664782",
   "metadata": {},
   "outputs": [
    {
     "name": "stdout",
     "output_type": "stream",
     "text": [
      "[[1 4 7]]\n"
     ]
    }
   ],
   "source": [
    "# Arrays A and B\n",
    "A = np.array([[1, 2, 3],\n",
    "              [4, 5, 6],\n",
    "              [7, 8, 9],\n",
    "              [1, 5, 7],\n",
    "              [2, 4, 6],\n",
    "              [3, 8, 9],\n",
    "              [1, 4, 7],\n",
    "              [2, 5, 8]])\n",
    "\n",
    "B = np.array([[7, 3],\n",
    "              [4, 1]])\n",
    "\n",
    "# Find rows in A containing elements from each row B\n",
    "matching_rows = np.all(np.isin(A, B), axis=1)\n",
    "\n",
    "# Get indexes of matching rows in A\n",
    "result = A[matching_rows]\n",
    "\n",
    "print(result)"
   ]
  },
  {
   "cell_type": "markdown",
   "id": "fa46533b",
   "metadata": {},
   "source": [
    "**5.** Дана 10x3 матрица, найти строки из неравных значений (например строка [2,2,3] остается, строка [3,3,3] удаляется)"
   ]
  },
  {
   "cell_type": "code",
   "execution_count": 75,
   "id": "fa545b23",
   "metadata": {},
   "outputs": [
    {
     "name": "stdout",
     "output_type": "stream",
     "text": [
      "Original matrix Z:\n",
      "[[1 3 1]\n",
      " [0 1 3]\n",
      " [0 3 3]\n",
      " [2 2 2]\n",
      " [1 1 2]\n",
      " [1 3 0]\n",
      " [1 2 1]\n",
      " [4 1 0]\n",
      " [0 4 3]\n",
      " [2 1 0]]\n",
      "\n",
      "Matrix U with rows containing non-equal values:\n",
      "[[1 3 1]\n",
      " [0 1 3]\n",
      " [0 3 3]\n",
      " [1 1 2]\n",
      " [1 3 0]\n",
      " [1 2 1]\n",
      " [4 1 0]\n",
      " [0 4 3]\n",
      " [2 1 0]]\n"
     ]
    }
   ],
   "source": [
    "Z = np.random.randint(0, 5, (10, 3))  # Create a 10x3 matrix Z with random integers from 0 to 4\n",
    "\n",
    "E = np.logical_and.reduce(Z[:, 1:] == Z[:, :-1], axis=1)\n",
    "\n",
    "# E is a boolean array of size 10, where each element indicates if the corresponding row in Z has equal values.\n",
    "# It uses np.logical_and.reduce() to check if all values in each row are equal.\n",
    "# Z[:, 1:] selects all columns except the first one, and Z[:, :-1] selects all columns except the last one.\n",
    "# The parameter axis=1 specifies that the comparison should be done along the rows.\n",
    "\n",
    "U = Z[~E]\n",
    "# U is a submatrix of Z that contains only the rows with non-equal values.\n",
    "# The ~ operator is used to invert the boolean array E, selecting the rows where the values are not equal.\n",
    "\n",
    "print(\"Original matrix Z:\")\n",
    "print(Z)\n",
    "print(\"\\nMatrix U with rows containing non-equal values:\")\n",
    "print(U)"
   ]
  },
  {
   "cell_type": "markdown",
   "id": "28f0d116",
   "metadata": {},
   "source": [
    "**6.** Дан двумерный массив. Удалить те строки, которые повторяются"
   ]
  },
  {
   "cell_type": "code",
   "execution_count": 76,
   "id": "83d2c0b7",
   "metadata": {},
   "outputs": [
    {
     "name": "stdout",
     "output_type": "stream",
     "text": [
      "array whithout duplicate rows\n",
      "[[1 2 3]\n",
      " [4 5 6]\n",
      " [7 8 9]]\n"
     ]
    }
   ],
   "source": [
    "arr = np.array([[1, 2, 3],\n",
    "                [4, 5, 6],\n",
    "                [1, 2, 3],\n",
    "                [7, 8, 9],\n",
    "                [4, 5, 6]])\n",
    "not_unique = np.unique(arr, axis=0)\n",
    "print('array whithout duplicate rows')\n",
    "print (not_unique)"
   ]
  },
  {
   "cell_type": "markdown",
   "id": "6daa9e37",
   "metadata": {},
   "source": [
    "______\n",
    "______"
   ]
  },
  {
   "cell_type": "markdown",
   "id": "cfbfcaff",
   "metadata": {},
   "source": [
    "Для каждой из следующих задач (1-5) нужно привести 2 реализации – одна без использования numpy (cчитайте, что там, где на входе или выходе должны быть numpy array, будут просто списки), а вторая полностью векторизованная с использованием numpy (без использования питоновских циклов/map/list comprehension).\n",
    "\n",
    "\n",
    "__Замечание 1.__ Можно считать, что все указанные объекты непустые (к примеру, в __задаче 1__ на диагонали матрицы есть ненулевые элементы).\n",
    "\n",
    "__Замечание 2.__ Для большинства задач решение занимает не больше 1-2 строк."
   ]
  },
  {
   "cell_type": "markdown",
   "id": "673cac7f",
   "metadata": {},
   "source": [
    "___"
   ]
  },
  {
   "cell_type": "markdown",
   "id": "ca6f585e",
   "metadata": {},
   "source": [
    "* __Задача 1__: Подсчитать произведение ненулевых элементов на диагонали прямоугольной матрицы.  \n",
    " Например, для X = np.array([[1, 0, 1], [2, 0, 2], [3, 0, 3], [4, 4, 4]]) ответ 3."
   ]
  },
  {
   "cell_type": "code",
   "execution_count": 77,
   "id": "065862fc",
   "metadata": {},
   "outputs": [
    {
     "name": "stdout",
     "output_type": "stream",
     "text": [
      "3\n"
     ]
    }
   ],
   "source": [
    "# Without NumPy\n",
    "matrix = [[1, 0, 1], [2, 0, 2], [3, 0, 3], [4, 4, 4]]\n",
    "product = 1\n",
    "for i in range(min(len(matrix), len(matrix[0]))):\n",
    "    if matrix[i][i] != 0:\n",
    "        product *= matrix[i][i]\n",
    "print(product)"
   ]
  },
  {
   "cell_type": "code",
   "execution_count": 78,
   "id": "8dab7eee",
   "metadata": {},
   "outputs": [
    {
     "name": "stdout",
     "output_type": "stream",
     "text": [
      "3\n"
     ]
    }
   ],
   "source": [
    "# with NumPy\n",
    "\n",
    "matrix = np.array([[1, 0, 1], [2, 0, 2], [3, 0, 3], [4, 4, 4]])\n",
    "product = np.prod(np.diagonal(matrix)[np.diagonal(matrix) != 0])\n",
    "print(product)"
   ]
  },
  {
   "cell_type": "markdown",
   "id": "9fc51d41",
   "metadata": {},
   "source": [
    "* __Задача 2__: Даны два вектора x и y. Проверить, задают ли они одно и то же мультимножество.  \n",
    "  Например, для x = np.array([1, 2, 2, 4]), y = np.array([4, 2, 1, 2]) ответ True."
   ]
  },
  {
   "cell_type": "code",
   "execution_count": 79,
   "id": "a809e02f",
   "metadata": {
    "scrolled": true
   },
   "outputs": [
    {
     "name": "stdout",
     "output_type": "stream",
     "text": [
      "True\n"
     ]
    }
   ],
   "source": [
    "# with NumPy\n",
    "x = np.array([1, 2, 2, 4])\n",
    "y = np.array([4, 2, 1, 2])\n",
    "\n",
    "result = np.array_equal(np.sort(x), np.sort(y))\n",
    "print(result)"
   ]
  },
  {
   "cell_type": "code",
   "execution_count": 80,
   "id": "836c014c",
   "metadata": {},
   "outputs": [
    {
     "name": "stdout",
     "output_type": "stream",
     "text": [
      "True\n"
     ]
    }
   ],
   "source": [
    "x = [1, 2, 2, 4]\n",
    "y = [4, 2, 1, 2]\n",
    "\n",
    "result = sorted(x) == sorted(y)\n",
    "print(result)"
   ]
  },
  {
   "cell_type": "markdown",
   "id": "b9c185c7",
   "metadata": {},
   "source": [
    "* __Задача 3__: Найти максимальный элемент в векторе x среди элементов, перед которыми стоит ноль. \n",
    " Например, для x = np.array([6, 2, 0, 3, 0, 0, 5, 7, 0]) ответ 5."
   ]
  },
  {
   "cell_type": "code",
   "execution_count": 81,
   "id": "b57df008",
   "metadata": {},
   "outputs": [
    {
     "name": "stdout",
     "output_type": "stream",
     "text": [
      "5\n"
     ]
    }
   ],
   "source": [
    "# With NumPy\n",
    "\n",
    "x = np.array([6, 2, 0, 3, 0, 0, 5, 7, 0])\n",
    "\n",
    "valid_indices = np.where(x[:-1] == 0)[0] + 1\n",
    "max_element = np.max(x[valid_indices]) if len(valid_indices) > 0 else None\n",
    "print(max_element)\n"
   ]
  },
  {
   "cell_type": "code",
   "execution_count": 82,
   "id": "a249ecc5",
   "metadata": {},
   "outputs": [
    {
     "name": "stdout",
     "output_type": "stream",
     "text": [
      "5\n"
     ]
    }
   ],
   "source": [
    "# Without NumPy\n",
    "\n",
    "x = [6, 2, 0, 3, 0, 0, 5, 7, 0]\n",
    "\n",
    "valid_indices = [i + 1 for i in range(len(x) - 1) if x[i] == 0]\n",
    "max_element = max([x[i] for i in valid_indices]) if valid_indices else None\n",
    "print(max_element)\n"
   ]
  },
  {
   "cell_type": "markdown",
   "id": "480be4ce",
   "metadata": {},
   "source": [
    "* __Задача 4__: Реализовать кодирование длин серий (Run-length encoding). Для некоторого вектора x необходимо вернуть кортеж из двух векторов одинаковой длины. Первый содержит числа, а второй - сколько раз их нужно повторить.  \n",
    " Например, для x = np.array([2, 2, 2, 3, 3, 3, 5]) ответ (np.array([2, 3, 5]), np.array([3, 3, 1]))."
   ]
  },
  {
   "cell_type": "code",
   "execution_count": 83,
   "id": "3c592124",
   "metadata": {},
   "outputs": [
    {
     "name": "stdout",
     "output_type": "stream",
     "text": [
      "(array([2, 3, 5]), array([3, 3, 1], dtype=int64))\n"
     ]
    }
   ],
   "source": [
    "# With NumPy\n",
    "x = np.array([2, 2, 2, 3, 3, 3, 5])\n",
    "\n",
    "values, counts = np.unique(x, return_counts=True)\n",
    "result = (values, counts)\n",
    "print(result)"
   ]
  },
  {
   "cell_type": "code",
   "execution_count": 84,
   "id": "b15e5fc6",
   "metadata": {},
   "outputs": [
    {
     "name": "stdout",
     "output_type": "stream",
     "text": [
      "([2, 3, 5], [3, 3, 1])\n"
     ]
    }
   ],
   "source": [
    "# Without NumPy\n",
    "x = [2, 2, 2, 3, 3, 3, 5]\n",
    "\n",
    "values = []\n",
    "counts = []\n",
    "current_value = None\n",
    "current_count = 0\n",
    "\n",
    "for num in x:\n",
    "    if num == current_value:\n",
    "        current_count += 1\n",
    "    else:\n",
    "        if current_value is not None:\n",
    "            values.append(current_value)\n",
    "            counts.append(current_count)\n",
    "        current_value = num\n",
    "        current_count = 1\n",
    "\n",
    "values.append(current_value)\n",
    "counts.append(current_count)\n",
    "\n",
    "result = (values, counts)\n",
    "print(result)"
   ]
  },
  {
   "cell_type": "markdown",
   "id": "077532ec",
   "metadata": {},
   "source": [
    "* __Задача 5__: Даны две выборки объектов - X и Y. Вычислить матрицу евклидовых расстояний между объектами. Сравните с функцией scipy.spatial.distance.cdist по скорости работы."
   ]
  },
  {
   "cell_type": "code",
   "execution_count": 85,
   "id": "1e807797",
   "metadata": {},
   "outputs": [
    {
     "name": "stdout",
     "output_type": "stream",
     "text": [
      "[[ 8.48528137 11.3137085 ]\n",
      " [ 5.65685425  8.48528137]\n",
      " [ 2.82842712  5.65685425]]\n"
     ]
    }
   ],
   "source": [
    "# def pairwise_distances(X, Y):\n",
    "X = [[1, 2], [3, 4], [5, 6]]\n",
    "Y = [[7, 8], [9, 10]]\n",
    "# Transform lists into NumPy arrays\n",
    "X = np.array(X)\n",
    "Y = np.array(Y)\n",
    "    \n",
    "# We calculate the matrix of Euclidean distances between objects from samples X and Y\n",
    "distances = np.sqrt(((X[:, np.newaxis] - Y) ** 2).sum(axis=2))\n",
    "    \n",
    "print(distances)"
   ]
  },
  {
   "cell_type": "code",
   "execution_count": 86,
   "id": "3ef3d5f2",
   "metadata": {},
   "outputs": [
    {
     "name": "stdout",
     "output_type": "stream",
     "text": [
      "[[8.48528137423857, 11.313708498984761], [5.656854249492381, 8.48528137423857], [2.8284271247461903, 5.656854249492381]]\n"
     ]
    }
   ],
   "source": [
    "import math\n",
    "\n",
    "def euclidean_distance(x1, x2):\n",
    "    # Calculate the Euclidean distance between two points\n",
    "    distance = math.sqrt(sum((a - b) ** 2 for a, b in zip(x1, x2)))\n",
    "    return distance\n",
    "\n",
    "def pairwise_distances(X, Y):\n",
    "    # Transform lists into NumPy arrays\n",
    "    X = np.array(X)\n",
    "    Y = np.array(Y)\n",
    "    \n",
    "    # We calculate the matrix of Euclidean distances between objects from samples X and Y\n",
    "    distances = []\n",
    "    for x in X:\n",
    "        row = []\n",
    "        for y in Y:\n",
    "            distance = euclidean_distance(x, y)\n",
    "            row.append(distance)\n",
    "        distances.append(row)\n",
    "    return distances\n",
    "\n",
    "X = [[1, 2], [3, 4], [5, 6]]\n",
    "Y = [[7, 8], [9, 10]]\n",
    "\n",
    "distances = pairwise_distances(X, Y)\n",
    "print(distances)"
   ]
  },
  {
   "cell_type": "code",
   "execution_count": 87,
   "id": "1cc9e18a",
   "metadata": {},
   "outputs": [],
   "source": [
    "\n",
    "# Coprare work speed with scipy.spatial.distance.cdist\n",
    "    # time1 = timeit.timeit(lambda: pairwise_distances(X, Y), number=10000)\n",
    "    # time2 = timeit.timeit(lambda: cdist(X, Y, metric='euclidean'), number=10000)\n",
    "\n",
    "    # print(\"Running time without using NumPy::\", time1)\n",
    "    # print(\"Running time using NumPy::\", time2)"
   ]
  },
  {
   "cell_type": "code",
   "execution_count": 88,
   "id": "1ad33934",
   "metadata": {},
   "outputs": [],
   "source": [
    "# A vectorized implementation using NumPy is usually more efficient and faster than a non-NumPy implementation. \n",
    "# This is because NumPy operates on data arrays at a low level, which allows for optimized calculations at the C level. \n",
    "# This allows you to perform operations on data arrays faster.\n",
    "# The scipy.spatial.distance.cdist function also uses optimized C code to calculate the Euclidean distance matrix. \n",
    "# It can be even more efficient as it uses specialized algorithms and optimizations to calculate distances.\n",
    "# The NumPy implementation and the scipy.spatial.distance.cdist function are expected to be significantly faster \n",
    "# compared to the non-NumPy implementation. In particular, a vectorized implementation using NumPy can be orders of magnitude \n",
    "# faster due to optimized array operations."
   ]
  },
  {
   "cell_type": "code",
   "execution_count": null,
   "id": "13b73233",
   "metadata": {},
   "outputs": [],
   "source": []
  },
  {
   "cell_type": "markdown",
   "id": "1104acb7",
   "metadata": {},
   "source": [
    "* #### __Задача 6__: CrunchieMunchies __*__\n",
    "\n",
    "Вы работаете в отделе маркетинга пищевой компании MyCrunch, которая разрабатывает новый вид вкусных, полезных злаков под названием **CrunchieMunchies**.\n",
    "\n",
    "Вы хотите продемонстрировать потребителям, насколько полезны ваши хлопья по сравнению с другими ведущими брендами, поэтому вы собрали данные о питании нескольких разных конкурентов.\n",
    "\n",
    "Ваша задача - использовать вычисления Numpy для анализа этих данных и доказать, что ваши **СrunchieMunchies** - самый здоровый выбор для потребителей.\n"
   ]
  },
  {
   "cell_type": "code",
   "execution_count": 89,
   "id": "10a77f8d",
   "metadata": {},
   "outputs": [],
   "source": [
    "import numpy as np"
   ]
  },
  {
   "cell_type": "markdown",
   "id": "ab87cb03",
   "metadata": {},
   "source": [
    "1. Просмотрите файл cereal.csv. Этот файл содержит количества калорий для различных марок хлопьев. Загрузите данные из файла и сохраните их как calorie_stats."
   ]
  },
  {
   "cell_type": "code",
   "execution_count": 90,
   "id": "9681ebf2",
   "metadata": {},
   "outputs": [
    {
     "data": {
      "text/plain": [
       "array([ 70., 120.,  70.,  50., 110., 110., 110., 130.,  90.,  90., 120.,\n",
       "       110., 120., 110., 110., 110., 100., 110., 110., 110., 100., 110.,\n",
       "       100., 100., 110., 110., 100., 120., 120., 110., 100., 110., 100.,\n",
       "       110., 120., 120., 110., 110., 110., 140., 110., 100., 110., 100.,\n",
       "       150., 150., 160., 100., 120., 140.,  90., 130., 120., 100.,  50.,\n",
       "        50., 100., 100., 120., 100.,  90., 110., 110.,  80.,  90.,  90.,\n",
       "       110., 110.,  90., 110., 140., 100., 110., 110., 100., 100., 110.])"
      ]
     },
     "execution_count": 90,
     "metadata": {},
     "output_type": "execute_result"
    }
   ],
   "source": [
    "calorie_stats = np.loadtxt(\"./data/cereal.csv\", delimiter=\",\")\n",
    "calorie_stats"
   ]
  },
  {
   "cell_type": "markdown",
   "id": "139cfbd8",
   "metadata": {},
   "source": [
    "2. В одной порции CrunchieMunchies содержится 60 калорий. Насколько выше среднее количество калорий у ваших конкурентов?\n",
    "\n",
    "Сохраните ответ в переменной average_calories и распечатайте переменную в терминале"
   ]
  },
  {
   "cell_type": "code",
   "execution_count": 91,
   "id": "7036d240",
   "metadata": {},
   "outputs": [
    {
     "name": "stdout",
     "output_type": "stream",
     "text": [
      "The average number of calories in competitors is higher by: 46.88\n"
     ]
    }
   ],
   "source": [
    "# np.mean calculating the average value of the number of calories in an array\n",
    "\n",
    "average_calories_check = np.mean(calorie_stats) - 60 \n",
    "average_calories = round(average_calories_check, 2)\n",
    "print(\"The average number of calories in competitors is higher by:\", rounded_average_calories)\n",
    "\n"
   ]
  },
  {
   "cell_type": "markdown",
   "id": "b2ddb4cd",
   "metadata": {},
   "source": [
    "3. Корректно ли среднее количество калорий отражает распределение набора данных? Давайте отсортируем данные и посмотрим.\n",
    "\n",
    "Отсортируйте данные и сохраните результат в переменной calorie_stats_sorted. Распечатайте отсортированную информацию"
   ]
  },
  {
   "cell_type": "code",
   "execution_count": 92,
   "id": "46eeb4ed",
   "metadata": {
    "scrolled": true
   },
   "outputs": [
    {
     "name": "stdout",
     "output_type": "stream",
     "text": [
      "Sorted calorie information::\n",
      "[ 50.  50.  50.  70.  70.  80.  90.  90.  90.  90.  90.  90.  90. 100.\n",
      " 100. 100. 100. 100. 100. 100. 100. 100. 100. 100. 100. 100. 100. 100.\n",
      " 100. 100. 110. 110. 110. 110. 110. 110. 110. 110. 110. 110. 110. 110.\n",
      " 110. 110. 110. 110. 110. 110. 110. 110. 110. 110. 110. 110. 110. 110.\n",
      " 110. 110. 110. 120. 120. 120. 120. 120. 120. 120. 120. 120. 120. 130.\n",
      " 130. 140. 140. 140. 150. 150. 160.]\n"
     ]
    }
   ],
   "source": [
    "# your code\n",
    "calorie_stats_sorted = np.sort(calorie_stats)\n",
    "\n",
    "print(\"Sorted calorie information::\")\n",
    "print(calorie_stats_sorted)"
   ]
  },
  {
   "cell_type": "markdown",
   "id": "4dc74116",
   "metadata": {},
   "source": [
    "4. Похоже, что большинство значений выше среднего. Давайте посмотрим, является ли медиана наиболее корректным показателем набора данных.\n",
    "\n",
    "Вычислите медиану набора данных и сохраните свой ответ в median_calories. Выведите медиану, чтобы вы могли видеть, как она сравнивается со средним значением."
   ]
  },
  {
   "cell_type": "code",
   "execution_count": 93,
   "id": "b56627c3",
   "metadata": {},
   "outputs": [
    {
     "name": "stdout",
     "output_type": "stream",
     "text": [
      "Median number of calories: 110.0\n"
     ]
    }
   ],
   "source": [
    "# np.median() to calculate the median of a dataset\n",
    "median_calories = np.median(calorie_stats)\n",
    "\n",
    "print(\"Median number of calories:\", median_calories)"
   ]
  },
  {
   "cell_type": "markdown",
   "id": "a63ab72f",
   "metadata": {},
   "source": [
    "5. В то время как медиана показывает, что по крайней мере половина наших значений составляет более 100 калорий, было бы более впечатляюще показать, что значительная часть конкурентов имеет более высокое количество калорий, чем CrunchieMunchies.\n",
    "\n",
    "Рассчитайте различные процентили и распечатайте их, пока не найдете наименьший процентиль, превышающий 60 калорий. Сохраните это значение в переменной nth_percentile."
   ]
  },
  {
   "cell_type": "code",
   "execution_count": 94,
   "id": "fe80ce03",
   "metadata": {
    "scrolled": true
   },
   "outputs": [
    {
     "name": "stdout",
     "output_type": "stream",
     "text": [
      "Lowest percentile over 60 calories: 70.0\n"
     ]
    }
   ],
   "source": [
    "# Calculating percentiles from 0 to 100\n",
    "percentiles = np.arange(0, 101)  \n",
    "\n",
    "for percentile in percentiles:\n",
    "    nth_percentile = np.percentile(calorie_stats, percentile)\n",
    "    if nth_percentile > 60:\n",
    "        break\n",
    "\n",
    "print(\"Lowest percentile over 60 calories:\", nth_percentile)"
   ]
  },
  {
   "cell_type": "code",
   "execution_count": 95,
   "id": "d0321ce4",
   "metadata": {
    "scrolled": true
   },
   "outputs": [],
   "source": [
    "# Lowest percentile over 60 calories: 70.0\n",
    "\n",
    "# This means that 70% of competing products have more calories than CrunchieMunchies (at 60 calories). \n",
    "# That is, more than 2/3 of competing products have more calories than CrunchieMunchies. \n",
    "# This suggests that a significant portion of competing products have a higher calorie count than CrunchieMunchies."
   ]
  },
  {
   "cell_type": "markdown",
   "id": "a2a3c5aa",
   "metadata": {},
   "source": [
    "6. Хотя процентиль показывает нам, что у большинства конкурентов количество калорий намного выше, это неудобная концепция для использования в маркетинговых материалах.\n",
    "\n",
    "Вместо этого давайте подсчитаем процент хлопьев, в которых содержится более 60 калорий на порцию. Сохраните свой ответ в переменной more_calories и распечатайте его"
   ]
  },
  {
   "cell_type": "code",
   "execution_count": 96,
   "id": "ade0f6ea",
   "metadata": {},
   "outputs": [
    {
     "name": "stdout",
     "output_type": "stream",
     "text": [
      "Percentage of cereal with more than 60 calories: 96.1\n"
     ]
    }
   ],
   "source": [
    "# np.sum() to count the number of cereals that contain more than 60 calories (calorie_stats > 60 condition). \n",
    "# We then divide this number by the total number of cereals (len(calorie_stats)) and multiply by 100 to get the percentage\n",
    "\n",
    "more_calories = np.sum(calorie_stats > 60) / len(calorie_stats) * 100\n",
    "\n",
    "print(\"Percentage of cereal with more than 60 calories:\", round(more_calories,2))"
   ]
  },
  {
   "cell_type": "markdown",
   "id": "1735d65b",
   "metadata": {},
   "source": [
    "7. Это действительно высокий процент. Это будет очень полезно, когда мы будем продвигать CrunchieMunchies. Но один вопрос заключается в том, насколько велики различия в наборе данных? Можем ли мы сделать обобщение, что в большинстве злаков содержится около 100 калорий или разброс еще больше?\n",
    "\n",
    "Рассчитайте величину отклонения, найдя стандартное отклонение, Сохраните свой ответ в calorie_std и распечатайте на терминале. Как мы можем включить эту ценность в наш анализ?"
   ]
  },
  {
   "cell_type": "code",
   "execution_count": 97,
   "id": "85c8df1f",
   "metadata": {
    "scrolled": true
   },
   "outputs": [
    {
     "name": "stdout",
     "output_type": "stream",
     "text": [
      "Standard deviation of calories: 19.35718533390827\n"
     ]
    }
   ],
   "source": [
    "# np.std() Compute the standard deviation along the specified axis.\n",
    "\n",
    "calorie_std = np.std(calorie_stats)\n",
    "\n",
    "print(\"Standard deviation of calories:\", calorie_std)"
   ]
  },
  {
   "cell_type": "markdown",
   "id": "037455c5",
   "metadata": {},
   "source": [
    "8. Напишите короткий абзац, в котором кратко изложите свои выводы и то, как, по вашему мнению, эти данные могут быть использованы в интересах Mycrunch при маркетинге CrunchieMunchies."
   ]
  },
  {
   "cell_type": "code",
   "execution_count": null,
   "id": "0c9591f9",
   "metadata": {},
   "outputs": [],
   "source": [
    "\n",
    "# Conclusions: CrunchieMunchies has fewer calories (60) than the competition, which averages around 106.88 calories. \n",
    "# Over 73% of the cereals in the dataset contain more than 60 calories per serving. \n",
    "# The standard deviation of caloric values is about 19.36, \n",
    "# which indicates a significant variation in the number of calories between cereals. \n",
    "# The data can be used to highlight the low calorie content of CrunchieMunchies in marketing materials, \n",
    "# drawing attention to its benefits in the context of a healthy lifestyle and calorie control.\n"
   ]
  },
  {
   "cell_type": "code",
   "execution_count": null,
   "id": "3e17e102",
   "metadata": {},
   "outputs": [],
   "source": [
    "# Thanks for watching"
   ]
  }
 ],
 "metadata": {
  "kernelspec": {
   "display_name": "Python 3 (ipykernel)",
   "language": "python",
   "name": "python3"
  },
  "language_info": {
   "codemirror_mode": {
    "name": "ipython",
    "version": 3
   },
   "file_extension": ".py",
   "mimetype": "text/x-python",
   "name": "python",
   "nbconvert_exporter": "python",
   "pygments_lexer": "ipython3",
   "version": "3.11.3"
  }
 },
 "nbformat": 4,
 "nbformat_minor": 5
}
